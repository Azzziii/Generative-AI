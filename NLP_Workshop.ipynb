{
  "nbformat": 4,
  "nbformat_minor": 0,
  "metadata": {
    "colab": {
      "provenance": [],
      "include_colab_link": true
    },
    "kernelspec": {
      "name": "python3",
      "display_name": "Python 3"
    },
    "language_info": {
      "name": "python"
    }
  },
  "cells": [
    {
      "cell_type": "markdown",
      "metadata": {
        "id": "view-in-github",
        "colab_type": "text"
      },
      "source": [
        "<a href=\"https://colab.research.google.com/github/Azzziii/Generative-AI/blob/main/NLP_Workshop.ipynb\" target=\"_parent\"><img src=\"https://colab.research.google.com/assets/colab-badge.svg\" alt=\"Open In Colab\"/></a>"
      ]
    },
    {
      "cell_type": "code",
      "execution_count": 1,
      "metadata": {
        "id": "3x2-UDn8EQ3b"
      },
      "outputs": [],
      "source": [
        "import numpy as np\n",
        "import tensorflow as tf\n",
        "from tensorflow.keras.preprocessing.text import Tokenizer\n",
        "from tensorflow.keras.preprocessing.sequence import pad_sequences"
      ]
    },
    {
      "cell_type": "code",
      "source": [
        "reviews = [\n",
        "  \"This movie was a breath of fresh air! The acting was superb, and the story kept me guessing until the very end.\",\n",
        "  \"The dialogue was cheesy and the plot predictable. A forgettable movie.\",\n",
        "  \"A visually stunning film with a powerful message. A must-watch for any sci-fi fan.\",\n",
        "  \"The acting was wooden and the special effects looked cheap. A disappointment.\",\n",
        "  \"A hilarious comedy that had me laughing out loud throughout. Perfect for a pick-me-up.\",\n",
        "  \"The pacing was slow and the ending felt rushed. Not my cup of tea.\",\n",
        "  \"A thought-provoking documentary that will stay with you long after the credits roll.\",\n",
        "  \"The characters were underdeveloped and the story lacked depth. Skippable.\",\n",
        "  \"A delightful family film with something for everyone. A great choice for a movie night.\",\n",
        "  \"The acting was phenomenal and the story was heartbreaking. A truly moving film.\",\n",
        "  # ... (remaining reviews, excluding reviews with mixed sentiment) ...\n",
        "  \"This historical drama captured the essence of the time period beautifully.\",\n",
        "  \"The cinematography was stunning, but the plot was convoluted.\",\n",
        "  \"A heartwarming story about overcoming adversity. A tearjerker!\",\n",
        "  \"The acting was so bad it was good. A cult classic in the making.\",\n",
        "  \"A thought-provoking film that challenges societal norms. Must-see for social commentary fans.\",\n",
        "  \"The special effects were groundbreaking, but the story lacked emotional depth.\",\n",
        "  \"A well-paced and suspenseful thriller that will keep you guessing.\",\n",
        "  \"The acting was phenomenal, but the ending felt rushed and unsatisfying.\",\n",
        "  \"A heartwarming comedy that will leave you with a smile. Perfect for a feel-good night.\",\n",
        "  \"The animation was beautiful, but the characters were forgettable.\",\n",
        "  \"A documentary that sheds light on a critical issue. A must-watch for anyone concerned about the topic.\",\n",
        "]\n",
        "labels = [\n",
        "  1,  # Positive\n",
        "  0,  # Negative\n",
        "  1,  # Positive\n",
        "  0,  # Negative\n",
        "  1,  # Positive\n",
        "  0,  # Negative\n",
        "  1,  # Positive\n",
        "  0,  # Negative\n",
        "  1,  # Positive\n",
        "  1,  # Positive\n",
        "  # ... (remaining labels, excluding labels for reviews with mixed sentiment) ...\n",
        "  1,  # Positive\n",
        "  0,  # Negative\n",
        "  1,  # Positive\n",
        "  1,  # Positive (assuming the review leans positive)\n",
        "  1,  # Positive\n",
        "  0,  # Negative\n",
        "  1,  # Positive\n",
        "  0,  # Negative\n",
        "  1,  # Positive\n",
        "  0,  # Negative\n",
        "  1,  # Positive\n",
        "]\n",
        "\n",
        "labels = np.array(labels)\n"
      ],
      "metadata": {
        "id": "qYu5ojcbIKbp"
      },
      "execution_count": 2,
      "outputs": []
    },
    {
      "cell_type": "code",
      "source": [
        "len(labels)"
      ],
      "metadata": {
        "colab": {
          "base_uri": "https://localhost:8080/"
        },
        "id": "sCrWg-icK2vJ",
        "outputId": "f8226fa4-2ad3-43a8-abe3-b07164ff8e88"
      },
      "execution_count": 3,
      "outputs": [
        {
          "output_type": "execute_result",
          "data": {
            "text/plain": [
              "21"
            ]
          },
          "metadata": {},
          "execution_count": 3
        }
      ]
    },
    {
      "cell_type": "code",
      "source": [
        "# Tokenize the reviews (convert to integer IDs)\n",
        "tokenizer = Tokenizer(num_words=1000)  # Adjust num_words as needed\n",
        "tokenizer.fit_on_texts(reviews)\n",
        "sequences = tokenizer.texts_to_sequences(reviews)"
      ],
      "metadata": {
        "id": "ImcF4QG3K-qf"
      },
      "execution_count": 4,
      "outputs": []
    },
    {
      "cell_type": "code",
      "source": [
        "tokenizer"
      ],
      "metadata": {
        "colab": {
          "base_uri": "https://localhost:8080/"
        },
        "id": "efMYczDFMS73",
        "outputId": "314c2865-9450-4b41-fa36-637a73c98a20"
      },
      "execution_count": 5,
      "outputs": [
        {
          "output_type": "execute_result",
          "data": {
            "text/plain": [
              "<keras.src.legacy.preprocessing.text.Tokenizer at 0x7a88b74dfa70>"
            ]
          },
          "metadata": {},
          "execution_count": 5
        }
      ]
    },
    {
      "cell_type": "code",
      "source": [
        "tokenizer.index_word"
      ],
      "metadata": {
        "colab": {
          "base_uri": "https://localhost:8080/"
        },
        "id": "zNUswgMBMS5K",
        "outputId": "2c9489cd-ee63-4e23-f0d7-aa12228332d9"
      },
      "execution_count": 6,
      "outputs": [
        {
          "output_type": "execute_result",
          "data": {
            "text/plain": [
              "{1: 'the',\n",
              " 2: 'a',\n",
              " 3: 'was',\n",
              " 4: 'and',\n",
              " 5: 'for',\n",
              " 6: 'that',\n",
              " 7: 'acting',\n",
              " 8: 'story',\n",
              " 9: 'film',\n",
              " 10: 'with',\n",
              " 11: 'but',\n",
              " 12: 'movie',\n",
              " 13: 'of',\n",
              " 14: 'me',\n",
              " 15: 'must',\n",
              " 16: 'will',\n",
              " 17: 'you',\n",
              " 18: 'were',\n",
              " 19: 'this',\n",
              " 20: 'guessing',\n",
              " 21: 'plot',\n",
              " 22: 'forgettable',\n",
              " 23: 'stunning',\n",
              " 24: 'watch',\n",
              " 25: 'special',\n",
              " 26: 'effects',\n",
              " 27: 'comedy',\n",
              " 28: 'perfect',\n",
              " 29: 'ending',\n",
              " 30: 'felt',\n",
              " 31: 'rushed',\n",
              " 32: 'thought',\n",
              " 33: 'provoking',\n",
              " 34: 'documentary',\n",
              " 35: 'characters',\n",
              " 36: 'lacked',\n",
              " 37: 'depth',\n",
              " 38: 'night',\n",
              " 39: 'phenomenal',\n",
              " 40: 'heartwarming',\n",
              " 41: 'about',\n",
              " 42: 'good',\n",
              " 43: 'breath',\n",
              " 44: 'fresh',\n",
              " 45: 'air',\n",
              " 46: 'superb',\n",
              " 47: 'kept',\n",
              " 48: 'until',\n",
              " 49: 'very',\n",
              " 50: 'end',\n",
              " 51: 'dialogue',\n",
              " 52: 'cheesy',\n",
              " 53: 'predictable',\n",
              " 54: 'visually',\n",
              " 55: 'powerful',\n",
              " 56: 'message',\n",
              " 57: 'any',\n",
              " 58: 'sci',\n",
              " 59: 'fi',\n",
              " 60: 'fan',\n",
              " 61: 'wooden',\n",
              " 62: 'looked',\n",
              " 63: 'cheap',\n",
              " 64: 'disappointment',\n",
              " 65: 'hilarious',\n",
              " 66: 'had',\n",
              " 67: 'laughing',\n",
              " 68: 'out',\n",
              " 69: 'loud',\n",
              " 70: 'throughout',\n",
              " 71: 'pick',\n",
              " 72: 'up',\n",
              " 73: 'pacing',\n",
              " 74: 'slow',\n",
              " 75: 'not',\n",
              " 76: 'my',\n",
              " 77: 'cup',\n",
              " 78: 'tea',\n",
              " 79: 'stay',\n",
              " 80: 'long',\n",
              " 81: 'after',\n",
              " 82: 'credits',\n",
              " 83: 'roll',\n",
              " 84: 'underdeveloped',\n",
              " 85: 'skippable',\n",
              " 86: 'delightful',\n",
              " 87: 'family',\n",
              " 88: 'something',\n",
              " 89: 'everyone',\n",
              " 90: 'great',\n",
              " 91: 'choice',\n",
              " 92: 'heartbreaking',\n",
              " 93: 'truly',\n",
              " 94: 'moving',\n",
              " 95: 'historical',\n",
              " 96: 'drama',\n",
              " 97: 'captured',\n",
              " 98: 'essence',\n",
              " 99: 'time',\n",
              " 100: 'period',\n",
              " 101: 'beautifully',\n",
              " 102: 'cinematography',\n",
              " 103: 'convoluted',\n",
              " 104: 'overcoming',\n",
              " 105: 'adversity',\n",
              " 106: 'tearjerker',\n",
              " 107: 'so',\n",
              " 108: 'bad',\n",
              " 109: 'it',\n",
              " 110: 'cult',\n",
              " 111: 'classic',\n",
              " 112: 'in',\n",
              " 113: 'making',\n",
              " 114: 'challenges',\n",
              " 115: 'societal',\n",
              " 116: 'norms',\n",
              " 117: 'see',\n",
              " 118: 'social',\n",
              " 119: 'commentary',\n",
              " 120: 'fans',\n",
              " 121: 'groundbreaking',\n",
              " 122: 'emotional',\n",
              " 123: 'well',\n",
              " 124: 'paced',\n",
              " 125: 'suspenseful',\n",
              " 126: 'thriller',\n",
              " 127: 'keep',\n",
              " 128: 'unsatisfying',\n",
              " 129: 'leave',\n",
              " 130: 'smile',\n",
              " 131: 'feel',\n",
              " 132: 'animation',\n",
              " 133: 'beautiful',\n",
              " 134: 'sheds',\n",
              " 135: 'light',\n",
              " 136: 'on',\n",
              " 137: 'critical',\n",
              " 138: 'issue',\n",
              " 139: 'anyone',\n",
              " 140: 'concerned',\n",
              " 141: 'topic'}"
            ]
          },
          "metadata": {},
          "execution_count": 6
        }
      ]
    },
    {
      "cell_type": "code",
      "source": [
        "sequences"
      ],
      "metadata": {
        "colab": {
          "base_uri": "https://localhost:8080/"
        },
        "id": "sU2VlPMPMSy4",
        "outputId": "335889ed-6dc9-4803-dca5-7e55536fbc5e"
      },
      "execution_count": 7,
      "outputs": [
        {
          "output_type": "execute_result",
          "data": {
            "text/plain": [
              "[[19,\n",
              "  12,\n",
              "  3,\n",
              "  2,\n",
              "  43,\n",
              "  13,\n",
              "  44,\n",
              "  45,\n",
              "  1,\n",
              "  7,\n",
              "  3,\n",
              "  46,\n",
              "  4,\n",
              "  1,\n",
              "  8,\n",
              "  47,\n",
              "  14,\n",
              "  20,\n",
              "  48,\n",
              "  1,\n",
              "  49,\n",
              "  50],\n",
              " [1, 51, 3, 52, 4, 1, 21, 53, 2, 22, 12],\n",
              " [2, 54, 23, 9, 10, 2, 55, 56, 2, 15, 24, 5, 57, 58, 59, 60],\n",
              " [1, 7, 3, 61, 4, 1, 25, 26, 62, 63, 2, 64],\n",
              " [2, 65, 27, 6, 66, 14, 67, 68, 69, 70, 28, 5, 2, 71, 14, 72],\n",
              " [1, 73, 3, 74, 4, 1, 29, 30, 31, 75, 76, 77, 13, 78],\n",
              " [2, 32, 33, 34, 6, 16, 79, 10, 17, 80, 81, 1, 82, 83],\n",
              " [1, 35, 18, 84, 4, 1, 8, 36, 37, 85],\n",
              " [2, 86, 87, 9, 10, 88, 5, 89, 2, 90, 91, 5, 2, 12, 38],\n",
              " [1, 7, 3, 39, 4, 1, 8, 3, 92, 2, 93, 94, 9],\n",
              " [19, 95, 96, 97, 1, 98, 13, 1, 99, 100, 101],\n",
              " [1, 102, 3, 23, 11, 1, 21, 3, 103],\n",
              " [2, 40, 8, 41, 104, 105, 2, 106],\n",
              " [1, 7, 3, 107, 108, 109, 3, 42, 2, 110, 111, 112, 1, 113],\n",
              " [2, 32, 33, 9, 6, 114, 115, 116, 15, 117, 5, 118, 119, 120],\n",
              " [1, 25, 26, 18, 121, 11, 1, 8, 36, 122, 37],\n",
              " [2, 123, 124, 4, 125, 126, 6, 16, 127, 17, 20],\n",
              " [1, 7, 3, 39, 11, 1, 29, 30, 31, 4, 128],\n",
              " [2, 40, 27, 6, 16, 129, 17, 10, 2, 130, 28, 5, 2, 131, 42, 38],\n",
              " [1, 132, 3, 133, 11, 1, 35, 18, 22],\n",
              " [2, 34, 6, 134, 135, 136, 2, 137, 138, 2, 15, 24, 5, 139, 140, 41, 1, 141]]"
            ]
          },
          "metadata": {},
          "execution_count": 7
        }
      ]
    },
    {
      "cell_type": "code",
      "source": [
        "# Pad sequences to a fixed length\n",
        "padded_sequences = pad_sequences(sequences, maxlen=100)  # Adjust maxlen as needed"
      ],
      "metadata": {
        "id": "jV6AbMw8MSnw"
      },
      "execution_count": 8,
      "outputs": []
    },
    {
      "cell_type": "code",
      "source": [
        "padded_sequences"
      ],
      "metadata": {
        "colab": {
          "base_uri": "https://localhost:8080/"
        },
        "id": "vovXxfaLMSWs",
        "outputId": "622b2258-3570-42c1-e628-ee3bbe129e1d"
      },
      "execution_count": 9,
      "outputs": [
        {
          "output_type": "execute_result",
          "data": {
            "text/plain": [
              "array([[  0,   0,   0, ...,   1,  49,  50],\n",
              "       [  0,   0,   0, ...,   2,  22,  12],\n",
              "       [  0,   0,   0, ...,  58,  59,  60],\n",
              "       ...,\n",
              "       [  0,   0,   0, ..., 131,  42,  38],\n",
              "       [  0,   0,   0, ...,  35,  18,  22],\n",
              "       [  0,   0,   0, ...,  41,   1, 141]], dtype=int32)"
            ]
          },
          "metadata": {},
          "execution_count": 9
        }
      ]
    },
    {
      "cell_type": "code",
      "source": [
        "# Define vocabulary size and embedding dimension\n",
        "vocabulary_size = len(tokenizer.word_index) + 1  # +1 for padding\n",
        "embedding_dim = 120  # Adjust embedding dimension as needed"
      ],
      "metadata": {
        "id": "wNvDO_OaRp1q"
      },
      "execution_count": 10,
      "outputs": []
    },
    {
      "cell_type": "code",
      "source": [
        "# Create the embedding layer\n",
        "embedding_layer = tf.keras.layers.Embedding(vocabulary_size, embedding_dim, input_length=100)"
      ],
      "metadata": {
        "id": "iaspA78MR28U",
        "colab": {
          "base_uri": "https://localhost:8080/"
        },
        "outputId": "09072739-a17a-49e7-c650-5b765bcc4bfd"
      },
      "execution_count": 11,
      "outputs": [
        {
          "output_type": "stream",
          "name": "stderr",
          "text": [
            "/usr/local/lib/python3.12/dist-packages/keras/src/layers/core/embedding.py:97: UserWarning: Argument `input_length` is deprecated. Just remove it.\n",
            "  warnings.warn(\n"
          ]
        }
      ]
    },
    {
      "cell_type": "code",
      "source": [
        "# Build the classification model\n",
        "model = tf.keras.models.Sequential()"
      ],
      "metadata": {
        "id": "jzgG8NOgSyGM"
      },
      "execution_count": 12,
      "outputs": []
    },
    {
      "cell_type": "code",
      "source": [
        "model.add(embedding_layer)"
      ],
      "metadata": {
        "id": "TlW781htS2dE"
      },
      "execution_count": 13,
      "outputs": []
    },
    {
      "cell_type": "code",
      "source": [
        "model.add(tf.keras.layers.Flatten())  # Flatten the embedded sequences"
      ],
      "metadata": {
        "id": "uyHGPLZ4TBFl"
      },
      "execution_count": 14,
      "outputs": []
    },
    {
      "cell_type": "code",
      "source": [
        "model.add(tf.keras.layers.Dense(1, activation='softmax'))"
      ],
      "metadata": {
        "id": "boGrKgTrTGxP"
      },
      "execution_count": 15,
      "outputs": []
    },
    {
      "cell_type": "code",
      "source": [
        "# Compile the model\n",
        "model.compile(optimizer='adam', loss='binary_crossentropy', metrics=['accuracy'])"
      ],
      "metadata": {
        "id": "T5dJ3BydT0GX"
      },
      "execution_count": 16,
      "outputs": []
    },
    {
      "cell_type": "code",
      "source": [
        "model.summary()"
      ],
      "metadata": {
        "colab": {
          "base_uri": "https://localhost:8080/",
          "height": 225
        },
        "id": "bgC_mjKfUSRM",
        "outputId": "aac987f3-dc50-42fa-8885-54eb7bf6c79a"
      },
      "execution_count": 17,
      "outputs": [
        {
          "output_type": "display_data",
          "data": {
            "text/plain": [
              "\u001b[1mModel: \"sequential\"\u001b[0m\n"
            ],
            "text/html": [
              "<pre style=\"white-space:pre;overflow-x:auto;line-height:normal;font-family:Menlo,'DejaVu Sans Mono',consolas,'Courier New',monospace\"><span style=\"font-weight: bold\">Model: \"sequential\"</span>\n",
              "</pre>\n"
            ]
          },
          "metadata": {}
        },
        {
          "output_type": "display_data",
          "data": {
            "text/plain": [
              "┏━━━━━━━━━━━━━━━━━━━━━━━━━━━━━━━━━┳━━━━━━━━━━━━━━━━━━━━━━━━┳━━━━━━━━━━━━━━━┓\n",
              "┃\u001b[1m \u001b[0m\u001b[1mLayer (type)                   \u001b[0m\u001b[1m \u001b[0m┃\u001b[1m \u001b[0m\u001b[1mOutput Shape          \u001b[0m\u001b[1m \u001b[0m┃\u001b[1m \u001b[0m\u001b[1m      Param #\u001b[0m\u001b[1m \u001b[0m┃\n",
              "┡━━━━━━━━━━━━━━━━━━━━━━━━━━━━━━━━━╇━━━━━━━━━━━━━━━━━━━━━━━━╇━━━━━━━━━━━━━━━┩\n",
              "│ embedding (\u001b[38;5;33mEmbedding\u001b[0m)           │ ?                      │   \u001b[38;5;34m0\u001b[0m (unbuilt) │\n",
              "├─────────────────────────────────┼────────────────────────┼───────────────┤\n",
              "│ flatten (\u001b[38;5;33mFlatten\u001b[0m)               │ ?                      │   \u001b[38;5;34m0\u001b[0m (unbuilt) │\n",
              "├─────────────────────────────────┼────────────────────────┼───────────────┤\n",
              "│ dense (\u001b[38;5;33mDense\u001b[0m)                   │ ?                      │   \u001b[38;5;34m0\u001b[0m (unbuilt) │\n",
              "└─────────────────────────────────┴────────────────────────┴───────────────┘\n"
            ],
            "text/html": [
              "<pre style=\"white-space:pre;overflow-x:auto;line-height:normal;font-family:Menlo,'DejaVu Sans Mono',consolas,'Courier New',monospace\">┏━━━━━━━━━━━━━━━━━━━━━━━━━━━━━━━━━┳━━━━━━━━━━━━━━━━━━━━━━━━┳━━━━━━━━━━━━━━━┓\n",
              "┃<span style=\"font-weight: bold\"> Layer (type)                    </span>┃<span style=\"font-weight: bold\"> Output Shape           </span>┃<span style=\"font-weight: bold\">       Param # </span>┃\n",
              "┡━━━━━━━━━━━━━━━━━━━━━━━━━━━━━━━━━╇━━━━━━━━━━━━━━━━━━━━━━━━╇━━━━━━━━━━━━━━━┩\n",
              "│ embedding (<span style=\"color: #0087ff; text-decoration-color: #0087ff\">Embedding</span>)           │ ?                      │   <span style=\"color: #00af00; text-decoration-color: #00af00\">0</span> (unbuilt) │\n",
              "├─────────────────────────────────┼────────────────────────┼───────────────┤\n",
              "│ flatten (<span style=\"color: #0087ff; text-decoration-color: #0087ff\">Flatten</span>)               │ ?                      │   <span style=\"color: #00af00; text-decoration-color: #00af00\">0</span> (unbuilt) │\n",
              "├─────────────────────────────────┼────────────────────────┼───────────────┤\n",
              "│ dense (<span style=\"color: #0087ff; text-decoration-color: #0087ff\">Dense</span>)                   │ ?                      │   <span style=\"color: #00af00; text-decoration-color: #00af00\">0</span> (unbuilt) │\n",
              "└─────────────────────────────────┴────────────────────────┴───────────────┘\n",
              "</pre>\n"
            ]
          },
          "metadata": {}
        },
        {
          "output_type": "display_data",
          "data": {
            "text/plain": [
              "\u001b[1m Total params: \u001b[0m\u001b[38;5;34m0\u001b[0m (0.00 B)\n"
            ],
            "text/html": [
              "<pre style=\"white-space:pre;overflow-x:auto;line-height:normal;font-family:Menlo,'DejaVu Sans Mono',consolas,'Courier New',monospace\"><span style=\"font-weight: bold\"> Total params: </span><span style=\"color: #00af00; text-decoration-color: #00af00\">0</span> (0.00 B)\n",
              "</pre>\n"
            ]
          },
          "metadata": {}
        },
        {
          "output_type": "display_data",
          "data": {
            "text/plain": [
              "\u001b[1m Trainable params: \u001b[0m\u001b[38;5;34m0\u001b[0m (0.00 B)\n"
            ],
            "text/html": [
              "<pre style=\"white-space:pre;overflow-x:auto;line-height:normal;font-family:Menlo,'DejaVu Sans Mono',consolas,'Courier New',monospace\"><span style=\"font-weight: bold\"> Trainable params: </span><span style=\"color: #00af00; text-decoration-color: #00af00\">0</span> (0.00 B)\n",
              "</pre>\n"
            ]
          },
          "metadata": {}
        },
        {
          "output_type": "display_data",
          "data": {
            "text/plain": [
              "\u001b[1m Non-trainable params: \u001b[0m\u001b[38;5;34m0\u001b[0m (0.00 B)\n"
            ],
            "text/html": [
              "<pre style=\"white-space:pre;overflow-x:auto;line-height:normal;font-family:Menlo,'DejaVu Sans Mono',consolas,'Courier New',monospace\"><span style=\"font-weight: bold\"> Non-trainable params: </span><span style=\"color: #00af00; text-decoration-color: #00af00\">0</span> (0.00 B)\n",
              "</pre>\n"
            ]
          },
          "metadata": {}
        }
      ]
    },
    {
      "cell_type": "code",
      "source": [
        "model.fit(padded_sequences, labels, epochs=5)"
      ],
      "metadata": {
        "colab": {
          "base_uri": "https://localhost:8080/"
        },
        "id": "GgLl1z_rUs6B",
        "outputId": "ba7ec5f6-5ac5-490e-9dc0-6ff2b5f48494"
      },
      "execution_count": 18,
      "outputs": [
        {
          "output_type": "stream",
          "name": "stdout",
          "text": [
            "Epoch 1/5\n"
          ]
        },
        {
          "output_type": "stream",
          "name": "stderr",
          "text": [
            "/usr/local/lib/python3.12/dist-packages/keras/src/ops/nn.py:944: UserWarning: You are using a softmax over axis -1 of a tensor of shape (None, 1). This axis has size 1. The softmax operation will always return the value 1, which is likely not what you intended. Did you mean to use a sigmoid instead?\n",
            "  warnings.warn(\n"
          ]
        },
        {
          "output_type": "stream",
          "name": "stdout",
          "text": [
            "\u001b[1m1/1\u001b[0m \u001b[32m━━━━━━━━━━━━━━━━━━━━\u001b[0m\u001b[37m\u001b[0m \u001b[1m1s\u001b[0m 1s/step - accuracy: 0.6190 - loss: 0.6983\n",
            "Epoch 2/5\n",
            "\u001b[1m1/1\u001b[0m \u001b[32m━━━━━━━━━━━━━━━━━━━━\u001b[0m\u001b[37m\u001b[0m \u001b[1m0s\u001b[0m 54ms/step - accuracy: 0.6190 - loss: 0.6611\n",
            "Epoch 3/5\n",
            "\u001b[1m1/1\u001b[0m \u001b[32m━━━━━━━━━━━━━━━━━━━━\u001b[0m\u001b[37m\u001b[0m \u001b[1m0s\u001b[0m 55ms/step - accuracy: 0.6190 - loss: 0.6449\n",
            "Epoch 4/5\n",
            "\u001b[1m1/1\u001b[0m \u001b[32m━━━━━━━━━━━━━━━━━━━━\u001b[0m\u001b[37m\u001b[0m \u001b[1m0s\u001b[0m 53ms/step - accuracy: 0.6190 - loss: 0.6393\n",
            "Epoch 5/5\n",
            "\u001b[1m1/1\u001b[0m \u001b[32m━━━━━━━━━━━━━━━━━━━━\u001b[0m\u001b[37m\u001b[0m \u001b[1m0s\u001b[0m 143ms/step - accuracy: 0.6190 - loss: 0.6316\n"
          ]
        },
        {
          "output_type": "execute_result",
          "data": {
            "text/plain": [
              "<keras.src.callbacks.history.History at 0x7a88b90778f0>"
            ]
          },
          "metadata": {},
          "execution_count": 18
        }
      ]
    },
    {
      "cell_type": "code",
      "source": [
        "def predict_sentiment(new_sentence):\n",
        "  # Tokenize the new sentence\n",
        "  new_sequence = tokenizer.texts_to_sequences([new_sentence])\n",
        "\n",
        "  # Pad the new sequence\n",
        "  new_padded_sequence = pad_sequences(new_sequence, maxlen=100)\n",
        "\n",
        "  # Predict sentiment for the new sentence\n",
        "  prediction = model.predict(new_padded_sequence)\n",
        "\n",
        "  # Extract the predicted class (positive or negative)\n",
        "  predicted_class = np.round(prediction[0][0]).astype(int)\n",
        "\n",
        "  # Print the predicted sentiment\n",
        "  if predicted_class == 1:\n",
        "    print(f\"Predicted sentiment for '{new_sentence}': Positive\")\n",
        "  else:\n",
        "    print(f\"Predicted sentiment for '{new_sentence}': Negative\")"
      ],
      "metadata": {
        "id": "edFeO_G4Xh58"
      },
      "execution_count": 19,
      "outputs": []
    },
    {
      "cell_type": "code",
      "source": [
        "# Example usage\n",
        "new_sentence = \"I liked this movie!\"\n",
        "predict_sentiment(new_sentence)"
      ],
      "metadata": {
        "colab": {
          "base_uri": "https://localhost:8080/"
        },
        "id": "ogz-_9reYdba",
        "outputId": "4aab230c-d767-4591-f2b6-a1610c8997c7"
      },
      "execution_count": 20,
      "outputs": [
        {
          "output_type": "stream",
          "name": "stdout",
          "text": [
            "\u001b[1m1/1\u001b[0m \u001b[32m━━━━━━━━━━━━━━━━━━━━\u001b[0m\u001b[37m\u001b[0m \u001b[1m0s\u001b[0m 75ms/step\n",
            "Predicted sentiment for 'I liked this movie!': Positive\n"
          ]
        },
        {
          "output_type": "stream",
          "name": "stderr",
          "text": [
            "/usr/local/lib/python3.12/dist-packages/keras/src/ops/nn.py:944: UserWarning: You are using a softmax over axis -1 of a tensor of shape (1, 1). This axis has size 1. The softmax operation will always return the value 1, which is likely not what you intended. Did you mean to use a sigmoid instead?\n",
            "  warnings.warn(\n"
          ]
        }
      ]
    },
    {
      "cell_type": "code",
      "source": [],
      "metadata": {
        "id": "2yAcCir7ZE3f"
      },
      "execution_count": 20,
      "outputs": []
    }
  ]
}